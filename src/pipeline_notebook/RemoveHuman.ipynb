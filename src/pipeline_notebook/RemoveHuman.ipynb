{
 "cells": [
  {
   "cell_type": "markdown",
   "metadata": {},
   "source": [
    "    ## Filter non human\n",
    "\n",
    "Extras: Add on utility job to filter non human unmapped reads from BAM file via samtools. It needs a BED file to filter specific reads regions."
   ]
  },
  {
   "cell_type": "code",
   "execution_count": null,
   "metadata": {},
   "outputs": [],
   "source": [
    "import traceback\n",
    "import pysam\n",
    "import os\n",
    "from hops import hdfs\n",
    "import utils\n",
    "import sys\n",
    "from pyspark import SparkContext\n",
    "\n",
    "sc = SparkContext.getOrCreate()"
   ]
  },
  {
   "cell_type": "markdown",
   "metadata": {},
   "source": [
    "#### Load arguments"
   ]
  },
  {
   "cell_type": "code",
   "execution_count": null,
   "metadata": {},
   "outputs": [],
   "source": [
    "\n",
    "args_full=utils.load_arguments(sys.argv)\n",
    "\n",
    "OUTPUT_DATASET=args_full[utils.OUTPUT_DATASET]\n",
    "INPUT_ROOT_PATH=args_full[utils.INPUT_ROOT_PATH]\n",
    "RUN_FOLDER=args_full[utils.RUN_FOLDER]\n",
    "WORK_PATH=os.path.join(OUTPUT_DATASET, RUN_FOLDER)\n",
    "args=args_full[utils.KEY_REMOVE_HUMAN]\n",
    "\n",
    "# check of input and output root override\n",
    "if args_full.get(utils.INPUT_OVERRIDE):\n",
    "    inputRoot=args_full.get(utils.INPUT_OVERRIDE)\n",
    "else :\n",
    "    inputRoot=os.path.join(WORK_PATH,args['INPUT_ROOT'])\n",
    "if args_full.get(utils.OUTPUT_OVERRIDE):\n",
    "    outputBam=args_full.get(utils.OUTPUT_OVERRIDE)\n",
    "else:\n",
    "    outputBam=os.path.join(WORK_PATH,args['OUTPUT_BAM'])\n",
    "\n",
    "\n",
    "humanFilterPath=args['FILTER_BED']\n",
    "\n",
    "threads=str(args['THREADS'])"
   ]
  },
  {
   "cell_type": "markdown",
   "metadata": {},
   "source": [
    "\n",
    "#### map function"
   ]
  },
  {
   "cell_type": "code",
   "execution_count": null,
   "metadata": {},
   "outputs": [],
   "source": [
    "\n",
    "def remove_human(file):\n",
    "    \"\"\"\n",
    "\n",
    "    Runs pysam on a BAM file to filter specific reads region as specified in BED file.\n",
    "    Output is copied back to hdfs.\n",
    "    If output file name is already present in destination the process is skipped\n",
    "    to avoid processing of same file incase of resubmit of failed run.\n",
    "\n",
    "    :param file:\n",
    "    :return:\n",
    "    \"\"\"\n",
    "    \n",
    "    filename=os.path.basename(file)\n",
    "    bam_file=filename.split('.')[0]+'_NH.bam'\n",
    "    if not hdfs.exists(os.path.join(outputBam,bam_file)): # check if output already exists\n",
    "    \n",
    "        hdfs.copy_to_local(humanFilterPath)\n",
    "        humanFilter=os.path.basename(humanFilterPath)\n",
    "        hdfs.copy_to_local(file, overwrite=True)        \n",
    "        print(\"INFO: Run non human BAM : \", filename)\n",
    "        try:\n",
    "            pysam.view('-o','/dev/null', '-L', humanFilter, '-U',bam_file, filename,'-@',threads, catch_stdout=False)\n",
    "            if os.path.exists(bam_file):\n",
    "                hdfs.copy_to_hdfs(bam_file,outputBam,overwrite=True)\n",
    "                os.remove(bam_file)\n",
    "        except pysam.SamtoolsError:\n",
    "            traceback.print_exc()\n",
    "        finally:\n",
    "            os.remove(filename)\n",
    "\n",
    "        return bam_file\n",
    "    \n",
    "    else:\n",
    "        print('skipping existing file: ', filename)            \n",
    "        return None\n",
    "\n",
    "\n",
    "\n",
    "\n",
    "    \n"
   ]
  },
  {
   "cell_type": "markdown",
   "metadata": {},
   "source": [
    "#### Load input files hdfs paths"
   ]
  },
  {
   "cell_type": "code",
   "execution_count": null,
   "metadata": {},
   "outputs": [],
   "source": [
    "\n",
    "inputFiles=utils.load_file_names(inputRoot)\n",
    "\n"
   ]
  },
  {
   "cell_type": "code",
   "execution_count": null,
   "metadata": {},
   "outputs": [],
   "source": [
    "print('Number of input files: ', len(inputFiles))"
   ]
  },
  {
   "cell_type": "markdown",
   "metadata": {},
   "source": [
    "#### Run in parallel"
   ]
  },
  {
   "cell_type": "code",
   "execution_count": null,
   "metadata": {},
   "outputs": [],
   "source": [
    "\n",
    "### make spark rdd and map function\n",
    "unMapped=sc.parallelize(inputFiles,sc.getConf().get(\"spark.executor.instances\")).map(remove_human).collect()\n"
   ]
  }
 ],
 "metadata": {
  "kernelspec": {
   "display_name": "PySpark",
   "language": "python",
   "name": "pysparkkernel"
  },
  "language_info": {
   "codemirror_mode": {
    "name": "python",
    "version": 3
   },
   "mimetype": "text/x-python",
   "name": "pyspark",
   "pygments_lexer": "python3"
  }
 },
 "nbformat": 4,
 "nbformat_minor": 4
}
