{
 "cells": [
  {
   "cell_type": "markdown",
   "metadata": {},
   "source": [
    "### Run braken on kraken report files"
   ]
  },
  {
   "cell_type": "code",
   "execution_count": 1,
   "metadata": {},
   "outputs": [
    {
     "name": "stdout",
     "output_type": "stream",
     "text": [
      "Starting Spark application\n"
     ]
    },
    {
     "data": {
      "text/html": [
       "<table>\n",
       "<tr><th>ID</th><th>Application ID</th><th>Kind</th><th>State</th><th>Spark UI</th><th>Driver log</th></tr><tr><td>97</td><td>application_1747302721605_0025</td><td>pyspark</td><td>idle</td><td><a target=\"_blank\" href=\"/hopsworks-api/yarnui/https://hadoop16:8089/proxy/application_1747302721605_0025/\">Link</a></td><td><a target=\"_blank\" href=\"/hopsworks-api/yarnui/https://hadoop6:8044/node/containerlogs/container_e01_1747302721605_0025_01_000001/HPV_meta__dhananja\">Link</a></td></tr></table>"
      ],
      "text/plain": [
       "<IPython.core.display.HTML object>"
      ]
     },
     "metadata": {},
     "output_type": "display_data"
    },
    {
     "name": "stdout",
     "output_type": "stream",
     "text": [
      "SparkSession available as 'spark'.\n"
     ]
    }
   ],
   "source": [
    "import traceback\n",
    "\n",
    "import os\n",
    "from hops import hdfs\n",
    "import utils\n",
    "import sys\n",
    "from pyspark import SparkContext\n",
    "import subprocess\n",
    "\n",
    "sc = SparkContext.getOrCreate()"
   ]
  },
  {
   "cell_type": "markdown",
   "metadata": {},
   "source": [
    "#### Load arguments"
   ]
  },
  {
   "cell_type": "code",
   "execution_count": null,
   "metadata": {},
   "outputs": [],
   "source": [
    "args_full=utils.load_arguments(sys.argv)"
   ]
  },
  {
   "cell_type": "code",
   "execution_count": null,
   "metadata": {},
   "outputs": [],
   "source": [
    "\n",
    "OUTPUT_DATASET=args_full[utils.OUTPUT_DATASET]\n",
    "INPUT_ROOT_PATH=args_full[utils.INPUT_ROOT_PATH]\n",
    "RUN_FOLDER=args_full[utils.RUN_FOLDER]\n",
    "WORK_PATH=os.path.join(OUTPUT_DATASET, RUN_FOLDER)\n",
    "\n",
    "args=args_full[\"Bracken\"]\n",
    "# check of input and output root override\n",
    "if args_full.get(utils.INPUT_OVERRIDE):\n",
    "    inputRoot=args_full.get(utils.INPUT_OVERRIDE)\n",
    "else :\n",
    "    inputRoot=os.path.join(WORK_PATH,args['INPUT_ROOT'])\n",
    "if args_full.get(utils.OUTPUT_OVERRIDE):\n",
    "    output_dir=args_full.get(utils.OUTPUT_OVERRIDE)\n",
    "else:\n",
    "    output_dir=os.path.join(WORK_PATH,args['OUTPUT_ROOT'])\n",
    "\n",
    "threads=str(args['THREADS'])\n",
    "db_path=args['KRAKEN_DB_PATH']\n",
    "read_length = args['READ_LENGTH']\n",
    "\n",
    "TOOL = '/srv/hops/anaconda/envs/theenv/Bracken'"
   ]
  },
  {
   "cell_type": "markdown",
   "metadata": {},
   "source": [
    "\n",
    "##### Map function"
   ]
  },
  {
   "cell_type": "code",
   "execution_count": 25,
   "metadata": {},
   "outputs": [],
   "source": [
    "\n",
    "import subprocess\n",
    "import os\n",
    "\n",
    "def run_bracken_levels(db_path, rep_file, read_length=150, threads=10):\n",
    "    \"\"\"\n",
    "    Run bracken for both species (S) and genus (G) levels.\n",
    "    \"\"\"\n",
    "    levels = ['S', 'G']\n",
    "    for level in levels:\n",
    "        base = os.path.splitext(os.path.basename(rep_file))[0]\n",
    "        output_file = f\"{base}_{level}.bracken\"\n",
    "        report_file = f\"{base}_{level}._report.txt\"\n",
    "        braken_path = TOOL + '/bracken'\n",
    "        input_file_name = os.path.basename(rep_file)\n",
    "        cmd = [\n",
    "            braken_path,\n",
    "            '-d', db_path,\n",
    "            '-i', input_file_name,\n",
    "            '-o', output_file,\n",
    "            '-r', str(read_length),\n",
    "            '-l', level,\n",
    "            '-t', str(threads),\n",
    "            '-w', report_file\n",
    "        ]\n",
    "        try:\n",
    "            print(f'INFO: Starting bracken command {cmd}')\n",
    "            subprocess.run(cmd, check=True)\n",
    "            return output_file, report_file\n",
    "        except subprocess.CalledProcessError:\n",
    "            print(f\"Bracken failed for level {level}\")\n",
    "            \n",
    "\n",
    "def run_braken_driver(rep_file):\n",
    "    # copy kraken db to local\n",
    "    kk_db=os.path.split(db_path)[1]  \n",
    "    # check if the db folder exists\n",
    "    if not os.path.exists(kk_db):\n",
    "        print('Starting copy of kraken db !')\n",
    "        hdfs.copy_to_local(db_path)\n",
    "    # copy report file \n",
    "    hdfs.copy_to_local(rep_file, overwrite=True)\n",
    "    \n",
    "    # Run Bracken for species and genus levels\n",
    "    try:\n",
    "        output_file, report_file = run_bracken_levels(kk_db, rep_file, read_length=read_length, threads=threads)\n",
    "        \n",
    "        print(f\"Bracken output file: {output_file}\")\n",
    "        if os.path.exists(output_file):\n",
    "            hdfs.copy_to_hdfs(output_file, output_dir, overwrite=True)\n",
    "        if os.path.exists(report_file):\n",
    "            hdfs.copy_to_hdfs(report_file, output_dir, overwrite=True)\n",
    "    except Exception as e:\n",
    "        print(f\"Error occurred while running Bracken: {e}\")\n"
   ]
  },
  {
   "cell_type": "code",
   "execution_count": 14,
   "metadata": {},
   "outputs": [],
   "source": [
    "# load input file paths\n",
    "inputFiles=utils.load_file_names(inputRoot)"
   ]
  },
  {
   "cell_type": "code",
   "execution_count": 15,
   "metadata": {},
   "outputs": [
    {
     "name": "stdout",
     "output_type": "stream",
     "text": [
      "Number of input files in list 128"
     ]
    }
   ],
   "source": [
    "print(f'Number of input files in list {len(inputFiles)}')"
   ]
  },
  {
   "cell_type": "markdown",
   "metadata": {},
   "source": [
    "#### Run in parallel"
   ]
  },
  {
   "cell_type": "code",
   "execution_count": null,
   "metadata": {},
   "outputs": [],
   "source": [
    "finalFiles=sc.parallelize(inputFiles,sc.getConf().get(\"spark.executor.instances\")).map(run_braken_driver).collect()"
   ]
  }
 ],
 "metadata": {
  "kernelspec": {
   "display_name": "PySpark",
   "language": "python",
   "name": "pysparkkernel"
  },
  "language_info": {
   "codemirror_mode": {
    "name": "python",
    "version": 3
   },
   "mimetype": "text/x-python",
   "name": "pyspark",
   "pygments_lexer": "python3"
  }
 },
 "nbformat": 4,
 "nbformat_minor": 4
}
